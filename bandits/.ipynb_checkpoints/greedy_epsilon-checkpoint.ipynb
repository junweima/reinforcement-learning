{
 "cells": [
  {
   "cell_type": "code",
   "execution_count": 68,
   "metadata": {
    "collapsed": true
   },
   "outputs": [],
   "source": [
    "import numpy as np\n",
    "import matplotlib.pyplot as plt"
   ]
  },
  {
   "cell_type": "code",
   "execution_count": 69,
   "metadata": {},
   "outputs": [],
   "source": [
    "class Bandit:\n",
    "    \n",
    "    # self.actual_m: the true mean of the bandit system\n",
    "    # self.empirical_m: the mean calculated from the experiments\n",
    "    # self.N: number of experiments done so far\n",
    "    \n",
    "    def __init__(self, actual_m):\n",
    "        self.actual_m = actual_m\n",
    "        self.empirical_m = 0\n",
    "        self.N = 0\n",
    "    \n",
    "    # generate the money returned by using the actual mean. Then update the empirical mean using the actual mean.\n",
    "    def pull(self):\n",
    "        money_returned = self.actual_m + np.random.randn()\n",
    "        self.N += 1\n",
    "        self.empirical_m = (1.0/self.N)*((self.N-1.0)*self.empirical_m + money_returned)\n",
    "        return money_returned\n",
    "    "
   ]
  },
  {
   "cell_type": "code",
   "execution_count": 70,
   "metadata": {},
   "outputs": [],
   "source": [
    "def experiment(m, e, N):\n",
    "    \n",
    "    # m: true mean of bandit 1, 2 and 3\n",
    "    # e: epsilon, the probability of exploration\n",
    "    # N: total number of tires\n",
    "    \n",
    "    # assume 3-armed bandit\n",
    "    bandits = [Bandit(m[0]), Bandit(m[1]), Bandit(m[2])]\n",
    "    \n",
    "    # value returned\n",
    "    r = []\n",
    "    \n",
    "    # apply greedy-epsilon algo\n",
    "    for i in range(N):\n",
    "        \n",
    "        # generate a random number\n",
    "        rand = np.random.random() #returns a random value from [0.0 1.0)\n",
    "        \n",
    "        b_chosen = np.argmax([b.empirical_m for b in bandits]) if rand > e else np.random.randint(3)\n",
    "\n",
    "        r_ = bandits[b_chosen].pull()\n",
    "        r.append(r_)\n",
    "    \n",
    "    cum_r = np.cumsum(r)/(np.arange(N)+1)\n",
    "    \n",
    "    return cum_r\n",
    "    "
   ]
  },
  {
   "cell_type": "code",
   "execution_count": 71,
   "metadata": {
    "scrolled": false
   },
   "outputs": [
    {
     "name": "stdout",
     "output_type": "stream",
     "text": [
      "[-0.60955855  0.77978143  1.40870996 ...,  2.89840478  2.89850927\n",
      "  2.89853354]\n"
     ]
    }
   ],
   "source": [
    "N = 10000\n",
    "m = [1, 2, 3]\n",
    "\n",
    "r1 = experiment(m, 0.1, N)\n",
    "r2 = experiment(m, 0.05, N)\n",
    "r3 = experiment(m, 0.01, N)\n",
    "\n",
    "plt.figure()\n",
    "plt.plot(np.arange(N), r1, label='r1')\n",
    "plt.plot(np.arange(N),r2, label='r2')\n",
    "plt.plot(np.arange(N),r3, label='r3')\n",
    "plt.show()"
   ]
  },
  {
   "cell_type": "code",
   "execution_count": null,
   "metadata": {
    "collapsed": true
   },
   "outputs": [],
   "source": []
  }
 ],
 "metadata": {
  "kernelspec": {
   "display_name": "Python 3",
   "language": "python",
   "name": "python3"
  },
  "language_info": {
   "codemirror_mode": {
    "name": "ipython",
    "version": 3
   },
   "file_extension": ".py",
   "mimetype": "text/x-python",
   "name": "python",
   "nbconvert_exporter": "python",
   "pygments_lexer": "ipython3",
   "version": "3.5.2"
  }
 },
 "nbformat": 4,
 "nbformat_minor": 2
}
