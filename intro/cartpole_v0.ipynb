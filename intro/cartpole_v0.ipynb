{
 "cells": [
  {
   "cell_type": "code",
   "execution_count": 1,
   "metadata": {},
   "outputs": [
    {
     "name": "stderr",
     "output_type": "stream",
     "text": [
      "[2017-09-23 17:42:38,272] Making new env: CartPole-v0\n"
     ]
    },
    {
     "name": "stdout",
     "output_type": "stream",
     "text": [
      "[ 0.00321107 -0.00113276 -0.01595734  0.02457234]\n",
      "[ 0.00318841 -0.19602228 -0.0154659   0.31217814]\n",
      "[-0.00073203 -0.00068344 -0.00922233  0.01465815]\n",
      "[-0.0007457   0.19456954 -0.00892917 -0.28092021]\n",
      "[ 0.00314569 -0.00042391 -0.01454757  0.00893317]\n",
      "[ 0.00313721  0.19490362 -0.01436891 -0.28830396]\n",
      "[ 0.00703528  0.3902275  -0.02013499 -0.58548385]\n",
      "[ 0.01483983  0.58562561 -0.03184467 -0.88444089]\n",
      "[ 0.02655234  0.78116515 -0.04953348 -1.18696224]\n",
      "[ 0.04217565  0.97689316 -0.07327273 -1.49475104]\n",
      "[ 0.06171351  1.17282578 -0.10316775 -1.80938428]\n",
      "[ 0.08517003  1.3689357  -0.13935544 -2.13226261]\n",
      "[ 0.11254874  1.17544358 -0.18200069 -1.88567609]\n",
      "Episode finished after 13 timesteps\n",
      "[-0.01494641  0.04443168 -0.02336139 -0.03131324]\n",
      "[-0.01405778  0.23988072 -0.02398766 -0.33127442]\n",
      "[-0.00926017  0.04510828 -0.03061315 -0.04625152]\n",
      "[-0.008358   -0.14956162 -0.03153818  0.23661766]\n",
      "[-0.01134923 -0.34421913 -0.02680582  0.51918804]\n",
      "[-0.01823362 -0.53895364 -0.01642206  0.8033049 ]\n",
      "[ -2.90126887e-02  -7.33846614e-01  -3.55964863e-04   1.09077707e+00]\n",
      "[-0.04368962 -0.53871997  0.02145958  0.79798247]\n",
      "[-0.05446402 -0.73412968  0.03741923  1.09733817]\n",
      "[-0.06914661 -0.53951985  0.05936599  0.81662646]\n",
      "[-0.07993701 -0.34525873  0.07569852  0.54319146]\n",
      "[-0.08684219 -0.54135833  0.08656235  0.8587326 ]\n",
      "[-0.09766935 -0.73754603  0.103737    1.17732986]\n",
      "[-0.11242027 -0.54391306  0.1272836   0.91888583]\n",
      "[-0.12329853 -0.35072011  0.14566131  0.6687611 ]\n",
      "[-0.13031294 -0.15789165  0.15903654  0.42525461]\n",
      "[-0.13347077  0.03466233  0.16754163  0.18662848]\n",
      "[-0.13277752 -0.16241103  0.1712742   0.52712643]\n",
      "[-0.13602574  0.0299397   0.18181673  0.29293071]\n",
      "[-0.13542695 -0.16724582  0.18767534  0.63699372]\n",
      "[-0.13877187  0.02483197  0.20041521  0.4087894 ]\n",
      "[-0.13827523 -0.17248324  0.208591    0.75736644]\n",
      "Episode finished after 22 timesteps\n",
      "[ 0.00770224  0.02855427  0.03336606  0.01525376]\n",
      "[ 0.00827332  0.22318222  0.03367114 -0.26671787]\n",
      "[ 0.01273697  0.02759629  0.02833678  0.03639217]\n",
      "[ 0.01328889  0.22230067  0.02906462 -0.24721725]\n",
      "[ 0.01773491  0.41699573  0.02412028 -0.5305927 ]\n",
      "[ 0.02607482  0.22154293  0.01350842 -0.23040811]\n",
      "[ 0.03050568  0.02623058  0.00890026  0.06650504]\n",
      "[ 0.03103029  0.22122381  0.01023036 -0.22335657]\n",
      "[ 0.03545477  0.02595714  0.00576323  0.07253578]\n",
      "[ 0.03597391  0.220996    0.00721395 -0.21832327]\n",
      "[ 0.04039383  0.41601408  0.00284748 -0.50872191]\n",
      "[ 0.04871411  0.6110958  -0.00732696 -0.80050614]\n",
      "[ 0.06093603  0.80631748 -0.02333708 -1.0954849 ]\n",
      "[ 0.07706238  1.00173889 -0.04524678 -1.39539768]\n",
      "[ 0.09709716  0.80720816 -0.07315473 -1.11719823]\n",
      "[ 0.11324132  1.0032099  -0.0954987  -1.43190282]\n",
      "[ 0.13330552  0.80938744 -0.12413675 -1.17052782]\n",
      "[ 0.14949327  1.00588552 -0.14754731 -1.49940939]\n",
      "[ 0.16961098  1.20245962 -0.1775355  -1.83428844]\n",
      "Episode finished after 19 timesteps\n",
      "[ 0.04620663 -0.02129778 -0.00841987 -0.02385776]\n",
      "[ 0.04578067  0.17394391 -0.00889702 -0.31918531]\n",
      "[ 0.04925955 -0.02105021 -0.01528073 -0.0293214 ]\n",
      "[ 0.04883854  0.1742875  -0.01586715 -0.32678612]\n",
      "[ 0.05232429 -0.02060499 -0.02240288 -0.03914893]\n",
      "[ 0.05191219 -0.21539864 -0.02318586  0.24638233]\n",
      "[ 0.04760422 -0.01995335 -0.01825821 -0.05352284]\n",
      "[ 0.04720515  0.17542558 -0.01932867 -0.35191   ]\n",
      "[ 0.05071367 -0.01941625 -0.02636687 -0.06538412]\n",
      "[ 0.05032534  0.17607361 -0.02767455 -0.36626795]\n",
      "[ 0.05384681 -0.01864436 -0.03499991 -0.08243811]\n",
      "[ 0.05347393  0.17696137 -0.03664867 -0.38595489]\n",
      "[ 0.05701315 -0.01762166 -0.04436777 -0.10504862]\n",
      "[ 0.05666072 -0.21208064 -0.04646874  0.17331295]\n",
      "[ 0.05241911 -0.40650778 -0.04300248  0.45098195]\n",
      "[ 0.04428895 -0.600996   -0.03398284  0.72980575]\n",
      "[ 0.03226903 -0.79563218 -0.01938673  1.01160242]\n",
      "[ 0.01635639 -0.60025699  0.00084532  0.71289537]\n",
      "[ 0.00435125 -0.40514676  0.01510323  0.42047864]\n",
      "[-0.00375169 -0.60047941  0.0235128   0.71788439]\n",
      "[-0.01576127 -0.79591872  0.03787049  1.01787445]\n",
      "[-0.03167965 -0.99152448  0.05822798  1.32220398]\n",
      "[-0.05151014 -0.79718462  0.08467206  1.04829759]\n",
      "[-0.06745383 -0.603282    0.10563801  0.7833495 ]\n",
      "[-0.07951947 -0.79968481  0.121305    1.10731129]\n",
      "[-0.09551317 -0.60634793  0.14345123  0.85501332]\n",
      "[-0.10764013 -0.80310288  0.16055149  1.18914445]\n",
      "[-0.12370218 -0.99989946  0.18433438  1.52754252]\n",
      "Episode finished after 28 timesteps\n",
      "[ 0.00425228 -0.00525762  0.03591109 -0.04325828]\n",
      "[ 0.00414713 -0.20087563  0.03504592  0.26053514]\n",
      "[ 0.00012962 -0.00627103  0.04025663 -0.02089111]\n",
      "[  4.19746609e-06   1.88251164e-01   3.98388050e-02  -3.00605758e-01]\n",
      "[ 0.00376922  0.3827833   0.03382669 -0.58046293]\n",
      "[ 0.01142489  0.57741533  0.02221743 -0.8623008 ]\n",
      "[ 0.02297319  0.77222784  0.00497142 -1.14791605]\n",
      "[ 0.03841775  0.96728453 -0.01798691 -1.43903589]\n",
      "[ 0.05776344  0.77238876 -0.04676762 -1.15202738]\n",
      "[ 0.07321122  0.96808862 -0.06980817 -1.45900088]\n",
      "[ 0.09257299  1.16399387 -0.09898819 -1.77264997]\n",
      "[ 0.11585287  0.97011788 -0.13444119 -1.51231465]\n",
      "[ 0.13525522  0.77685585 -0.16468748 -1.26444422]\n",
      "[ 0.15079234  0.97365442 -0.18997637 -1.6038475 ]\n",
      "Episode finished after 14 timesteps\n",
      "[-0.03693234 -0.0315135   0.03238302  0.0209805 ]\n",
      "[-0.03756261 -0.22708453  0.03280263  0.32370219]\n",
      "[-0.0421043  -0.03244465  0.03927667  0.04154167]\n",
      "[-0.04275319  0.16209272  0.04010751 -0.23849495]\n",
      "[-0.03951134 -0.03357857  0.03533761  0.06656439]\n",
      "[-0.04018291  0.16101939  0.0366689  -0.21476322]\n",
      "[-0.03696252 -0.03460709  0.03237363  0.08925748]\n",
      "[-0.03765466 -0.23017776  0.03415878  0.39197595]\n",
      "[-0.04225822 -0.03555681  0.0419983   0.11025555]\n",
      "[-0.04296935 -0.23125463  0.04420341  0.4158873 ]\n",
      "[-0.04759445 -0.42697427  0.05252116  0.72217157]\n",
      "[-0.05613393 -0.62278187  0.06696459  1.03091209]\n",
      "[-0.06858957 -0.42861166  0.08758283  0.75998243]\n",
      "[-0.0771618  -0.23479858  0.10278248  0.49609356]\n",
      "[-0.08185777 -0.43120829  0.11270435  0.81931819]\n",
      "[-0.09048194 -0.23779439  0.12909071  0.56410295]\n",
      "[-0.09523783 -0.43446874  0.14037277  0.89450714]\n",
      "[-0.1039272  -0.63118651  0.15826292  1.22781559]\n",
      "[-0.11655093 -0.82795106  0.18281923  1.56560914]\n",
      "Episode finished after 19 timesteps\n",
      "[ 0.01671208  0.03749199 -0.0202895   0.01210968]\n",
      "[ 0.01746192 -0.15733319 -0.0200473   0.29832261]\n",
      "[ 0.01431526  0.03806871 -0.01408085 -0.00061485]\n",
      "[ 0.01507663 -0.1568485  -0.01409315  0.28759234]\n",
      "[ 0.01193966  0.03847156 -0.0083413  -0.00950191]\n",
      "[ 0.0127091  -0.15652978 -0.00853134  0.28053761]\n",
      "[ 0.0095785   0.03871282 -0.00292059 -0.01482382]\n",
      "[ 0.01035276  0.23387654 -0.00321706 -0.30842679]\n",
      "[ 0.01503029  0.42904418 -0.0093856  -0.60212255]\n",
      "[ 0.02361117  0.62429615 -0.02142805 -0.89774693]\n",
      "[ 0.03609709  0.8197019  -0.03938299 -1.19708764]\n",
      "[ 0.05249113  0.62511121 -0.06332474 -0.91700353]\n",
      "[ 0.06499336  0.82102958 -0.08166481 -1.22889709]\n",
      "[ 0.08141395  1.01710186 -0.10624275 -1.54600812]\n",
      "[ 0.10175598  1.21332732 -0.13716292 -1.86986333]\n",
      "[ 0.12602253  1.40965682 -0.17456018 -2.20179123]\n",
      "Episode finished after 16 timesteps\n",
      "[-0.03134071  0.03850499  0.04781394  0.00289733]\n",
      "[-0.03057061  0.23290976  0.04787188 -0.27432463]\n",
      "[-0.02591242  0.42731715  0.04238539 -0.55153267]\n",
      "[-0.01736607  0.23162634  0.03135474 -0.24580251]\n",
      "[-0.01273355  0.03607092  0.02643869  0.05660322]\n",
      "[-0.01201213  0.23080401  0.02757075 -0.22762226]\n",
      "[-0.00739605  0.03529912  0.02301831  0.0736284 ]\n",
      "[-0.00669006 -0.16014514  0.02449087  0.3734839 ]\n",
      "[-0.00989297 -0.35560627  0.03196055  0.67378728]\n",
      "[-0.01700509 -0.55115751  0.0454363   0.97635914]\n",
      "[-0.02802824 -0.3566734   0.06496348  0.69828773]\n",
      "[-0.03516171 -0.16250949  0.07892924  0.42674205]\n",
      "[-0.0384119  -0.35865548  0.08746408  0.74322614]\n",
      "[-0.04558501 -0.55486878  0.1023286   1.0621027 ]\n",
      "[-0.05668239 -0.36123956  0.12357065  0.80321032]\n",
      "[-0.06390718 -0.55781961  0.13963486  1.13206936]\n",
      "[-0.07506357 -0.3647739   0.16227625  0.88623857]\n",
      "[-0.08235905 -0.17218263  0.18000102  0.64864714]\n",
      "[-0.0858027   0.02003592  0.19297396  0.41761266]\n",
      "[-0.08540198  0.21197464  0.20132621  0.19143155]\n",
      "[-0.08116249  0.01462734  0.20515485  0.54026441]\n",
      "Episode finished after 21 timesteps\n",
      "[ 0.03474517 -0.04046743 -0.01699472 -0.04461566]\n",
      "[ 0.03393582 -0.23534161 -0.01788704  0.2426572 ]\n",
      "[ 0.02922899 -0.03996879 -0.01303389 -0.05561366]\n",
      "[ 0.02842962 -0.23490145 -0.01414617  0.23292864]\n",
      "[ 0.02373159 -0.03958026 -0.00948759 -0.06418267]\n",
      "[ 0.02293998  0.15567642 -0.01077125 -0.35984382]\n",
      "[ 0.02605351  0.35094982 -0.01796812 -0.65590361]\n",
      "[ 0.03307251  0.15608256 -0.0310862  -0.36893226]\n",
      "[ 0.03619416  0.3516321  -0.03846484 -0.67125271]\n",
      "[ 0.0432268   0.1570654  -0.0518899  -0.39092441]\n",
      "[ 0.04636811 -0.03728319 -0.05970838 -0.1150427 ]\n",
      "[ 0.04562244  0.15864121 -0.06200924 -0.42594943]\n",
      "[ 0.04879527 -0.03555012 -0.07052823 -0.15344131]\n",
      "[ 0.04808427  0.1605071  -0.07359705 -0.46751413]\n",
      "[ 0.05129441  0.35658748 -0.08294734 -0.78245651]\n",
      "[ 0.05842616  0.16269757 -0.09859647 -0.51698014]\n"
     ]
    },
    {
     "name": "stdout",
     "output_type": "stream",
     "text": [
      "[ 0.06168011 -0.03090791 -0.10893607 -0.25692276]\n",
      "[ 0.06106195  0.16558707 -0.11407452 -0.58188198]\n",
      "[ 0.06437369 -0.02776734 -0.12571216 -0.32720064]\n",
      "[ 0.06381835  0.16889926 -0.13225618 -0.65673469]\n",
      "[ 0.06719633 -0.02415782 -0.14539087 -0.40844811]\n",
      "[ 0.06671317  0.17269407 -0.15355983 -0.74320505]\n",
      "[ 0.07016706 -0.0200126  -0.16842393 -0.50251584]\n",
      "[ 0.0697668   0.17703294 -0.17847425 -0.84318478]\n",
      "[ 0.07330746 -0.01526312 -0.19533795 -0.61151572]\n",
      "[ 0.0730022   0.18197501 -0.20756826 -0.95881118]\n",
      "Episode finished after 26 timesteps\n",
      "[ 0.0035788   0.04298991 -0.00287337  0.01346243]\n",
      "[ 0.0044386  -0.15209071 -0.00260413  0.30523739]\n",
      "[ 0.00139678 -0.34717546  0.00350062  0.5970979 ]\n",
      "[-0.00554673 -0.15210267  0.01544258  0.30551969]\n",
      "[-0.00858878 -0.34744124  0.02155297  0.60303254]\n",
      "[-0.0155376  -0.15262727  0.03361362  0.31721554]\n",
      "[-0.01859015 -0.34821146  0.03995794  0.62030665]\n",
      "[-0.02555438 -0.15366968  0.05236407  0.34047141]\n",
      "[-0.02862777 -0.34949606  0.0591735   0.64919636]\n",
      "[-0.03561769 -0.54539022  0.07215742  0.95991017]\n",
      "[-0.0465255  -0.74140407  0.09135563  1.27436171]\n",
      "[-0.06135358 -0.93756491  0.11684286  1.5941972 ]\n",
      "[-0.08010488 -1.1338631   0.14872681  1.92091053]\n",
      "[-0.10278214 -0.94061983  0.18714502  1.67781023]\n",
      "Episode finished after 14 timesteps\n",
      "[-0.04015626 -0.00681238 -0.02228842  0.03117419]\n",
      "[-0.04029251 -0.20160773 -0.02166494  0.31674238]\n",
      "[-0.04432467 -0.006184   -0.01533009  0.01730659]\n",
      "[-0.04444835 -0.20108279 -0.01498396  0.30511354]\n",
      "[-0.04847    -0.39598804 -0.00888169  0.59303348]\n",
      "[-0.05638976 -0.59098454  0.00297898  0.88290552]\n",
      "[-0.06820945 -0.39590317  0.02063709  0.59116058]\n",
      "[-0.07612752 -0.59130788  0.0324603   0.89027211]\n",
      "[-0.08795367 -0.78685487  0.05026575  1.19297972]\n",
      "[-0.10369077 -0.59241874  0.07412534  0.91646581]\n",
      "[-0.11553915 -0.78846051  0.09245466  1.23149386]\n",
      "[-0.13130836 -0.59464123  0.11708454  0.96914958]\n",
      "[-0.14320118 -0.79112381  0.13646753  1.29619985]\n",
      "[-0.15902366 -0.9876895   0.16239152  1.62830414]\n",
      "[-0.17877745 -0.79480646  0.19495761  1.39031965]\n",
      "Episode finished after 15 timesteps\n",
      "[-0.04398804 -0.01568958 -0.01487822 -0.00423165]\n",
      "[-0.04430183 -0.21059503 -0.01496285  0.28372013]\n",
      "[-0.04851373 -0.4055004  -0.00928845  0.57164655]\n",
      "[-0.05662374 -0.60049088  0.00214448  0.86138889]\n",
      "[-0.06863356 -0.4053982   0.01937226  0.56938101]\n",
      "[-0.07674152 -0.21055323  0.03075988  0.28286348]\n",
      "[-0.08095259 -0.40610011  0.03641715  0.58508703]\n",
      "[-0.08907459 -0.60171274  0.04811889  0.8890157 ]\n",
      "[-0.10110884 -0.79745349  0.0658992   1.19642848]\n",
      "[-0.11705791 -0.99336368  0.08982777  1.50901624]\n",
      "[-0.13692519 -1.18945222  0.1200081   1.82833703]\n",
      "[-0.16071423 -0.99584748  0.15657484  1.57521638]\n",
      "[-0.18063118 -1.19245114  0.18807916  1.91235948]\n",
      "Episode finished after 13 timesteps\n",
      "[ 0.04309775  0.03547788  0.00877428  0.03997493]\n",
      "[ 0.04380731 -0.15976879  0.00957378  0.33541326]\n",
      "[ 0.04061193 -0.35502567  0.01628205  0.63109982]\n",
      "[ 0.03351142 -0.55037098  0.02890404  0.92886564]\n",
      "[ 0.022504   -0.35565089  0.04748136  0.64540412]\n",
      "[ 0.01539098 -0.16122163  0.06038944  0.3680432 ]\n",
      "[ 0.01216655  0.03299256  0.0677503   0.09499665]\n",
      "[ 0.0128264  -0.16303172  0.06965024  0.40826187]\n",
      "[ 0.00956576 -0.35906854  0.07781547  0.72206475]\n",
      "[ 0.00238439 -0.1651043   0.09225677  0.45485349]\n",
      "[-0.00091769  0.02860035  0.10135384  0.19261718]\n",
      "[-0.00034569  0.22213736  0.10520618 -0.06645148]\n",
      "[ 0.00409706  0.41560595  0.10387715 -0.32417623]\n",
      "[ 0.01240918  0.21917011  0.09739363 -0.00062578]\n",
      "[ 0.01679258  0.02279607  0.09738111  0.32112783]\n",
      "[ 0.0172485  -0.17356805  0.10380367  0.64286333]\n",
      "[ 0.01377714  0.01996562  0.11666093  0.38458896]\n",
      "[ 0.01417646  0.2132548   0.12435271  0.13084648]\n",
      "[ 0.01844155  0.01659123  0.12696964  0.46002948]\n",
      "[ 0.01877338  0.20971132  0.13617023  0.20991008]\n",
      "[ 0.0229676   0.01293171  0.14036843  0.54225759]\n",
      "[ 0.02322624 -0.18385501  0.15121359  0.87566736]\n",
      "[ 0.01954914  0.00892383  0.16872693  0.63408637]\n",
      "[ 0.01972761 -0.18809984  0.18140866  0.97479576]\n",
      "[ 0.01596562  0.00418644  0.20090458  0.74414141]\n",
      "Episode finished after 25 timesteps\n",
      "[-0.04396089  0.03602844  0.04837835 -0.01151502]\n",
      "[-0.04324032  0.2304244   0.04814805 -0.2885501 ]\n",
      "[-0.03863184  0.42482786  0.04237705 -0.5656673 ]\n",
      "[-0.03013528  0.22913781  0.0310637  -0.25994063]\n",
      "[-0.02555252  0.0335865   0.02586489  0.04237609]\n",
      "[-0.02488079 -0.16189661  0.02671241  0.34310611]\n",
      "[-0.02811872  0.03283533  0.03357454  0.05896492]\n",
      "[-0.02746202  0.2274602   0.03475383 -0.2229388 ]\n",
      "[-0.02291281  0.42206862  0.03029506 -0.50445959]\n",
      "[-0.01447144  0.22653311  0.02020587 -0.20238552]\n",
      "[-0.00994078  0.42136035  0.01615816 -0.4886266 ]\n",
      "[-0.00151357  0.61625065  0.00638562 -0.7761736 ]\n",
      "[ 0.01081144  0.81128419 -0.00913785 -1.06684059]\n",
      "[ 0.02703712  1.00652585 -0.03047466 -1.36237734]\n",
      "[ 0.04716764  0.81179873 -0.05772221 -1.07938045]\n",
      "[ 0.06340362  0.61748451 -0.07930982 -0.80535546]\n",
      "[ 0.07575331  0.81359891 -0.09541693 -1.12189502]\n",
      "[ 0.09202528  1.00983367 -0.11785483 -1.44291826]\n",
      "[ 0.11222196  0.81634323 -0.14671319 -1.18926507]\n",
      "[ 0.12854882  0.62339529 -0.17049849 -0.94593156]\n",
      "[ 0.14101673  0.43092874 -0.18941712 -0.71130184]\n",
      "[ 0.1496353   0.62809829 -0.20364316 -1.05712258]\n",
      "Episode finished after 22 timesteps\n",
      "[-0.02722721 -0.03204105  0.04314232 -0.03213121]\n",
      "[-0.02786804 -0.22775428  0.04249969  0.27384537]\n"
     ]
    },
    {
     "ename": "AttributeError",
     "evalue": "'NoneType' object has no attribute 'flip'",
     "output_type": "error",
     "traceback": [
      "\u001b[1;31m---------------------------------------------------------------------------\u001b[0m",
      "\u001b[1;31mAttributeError\u001b[0m                            Traceback (most recent call last)",
      "\u001b[1;32m<ipython-input-1-e9f3487da205>\u001b[0m in \u001b[0;36m<module>\u001b[1;34m()\u001b[0m\n\u001b[0;32m      4\u001b[0m     \u001b[0mobservation\u001b[0m \u001b[1;33m=\u001b[0m \u001b[0menv\u001b[0m\u001b[1;33m.\u001b[0m\u001b[0mreset\u001b[0m\u001b[1;33m(\u001b[0m\u001b[1;33m)\u001b[0m\u001b[1;33m\u001b[0m\u001b[0m\n\u001b[0;32m      5\u001b[0m     \u001b[1;32mfor\u001b[0m \u001b[0mt\u001b[0m \u001b[1;32min\u001b[0m \u001b[0mrange\u001b[0m\u001b[1;33m(\u001b[0m\u001b[1;36m100\u001b[0m\u001b[1;33m)\u001b[0m\u001b[1;33m:\u001b[0m\u001b[1;33m\u001b[0m\u001b[0m\n\u001b[1;32m----> 6\u001b[1;33m         \u001b[0menv\u001b[0m\u001b[1;33m.\u001b[0m\u001b[0mrender\u001b[0m\u001b[1;33m(\u001b[0m\u001b[1;33m)\u001b[0m\u001b[1;33m\u001b[0m\u001b[0m\n\u001b[0m\u001b[0;32m      7\u001b[0m         \u001b[0mprint\u001b[0m\u001b[1;33m(\u001b[0m\u001b[0mobservation\u001b[0m\u001b[1;33m)\u001b[0m\u001b[1;33m\u001b[0m\u001b[0m\n\u001b[0;32m      8\u001b[0m         \u001b[0maction\u001b[0m \u001b[1;33m=\u001b[0m \u001b[0menv\u001b[0m\u001b[1;33m.\u001b[0m\u001b[0maction_space\u001b[0m\u001b[1;33m.\u001b[0m\u001b[0msample\u001b[0m\u001b[1;33m(\u001b[0m\u001b[1;33m)\u001b[0m \u001b[1;31m#sampling random actions from the action space\u001b[0m\u001b[1;33m\u001b[0m\u001b[0m\n",
      "\u001b[1;32mc:\\cygwin64\\home\\jeremy\\reinforcement-learning\\gym\\gym\\core.py\u001b[0m in \u001b[0;36mrender\u001b[1;34m(self, mode, close)\u001b[0m\n\u001b[0;32m    148\u001b[0m             \u001b[1;32melif\u001b[0m \u001b[0mmode\u001b[0m \u001b[1;32mnot\u001b[0m \u001b[1;32min\u001b[0m \u001b[0mmodes\u001b[0m\u001b[1;33m:\u001b[0m\u001b[1;33m\u001b[0m\u001b[0m\n\u001b[0;32m    149\u001b[0m                 \u001b[1;32mraise\u001b[0m \u001b[0merror\u001b[0m\u001b[1;33m.\u001b[0m\u001b[0mUnsupportedMode\u001b[0m\u001b[1;33m(\u001b[0m\u001b[1;34m'Unsupported rendering mode: {}. (Supported modes for {}: {})'\u001b[0m\u001b[1;33m.\u001b[0m\u001b[0mformat\u001b[0m\u001b[1;33m(\u001b[0m\u001b[0mmode\u001b[0m\u001b[1;33m,\u001b[0m \u001b[0mself\u001b[0m\u001b[1;33m,\u001b[0m \u001b[0mmodes\u001b[0m\u001b[1;33m)\u001b[0m\u001b[1;33m)\u001b[0m\u001b[1;33m\u001b[0m\u001b[0m\n\u001b[1;32m--> 150\u001b[1;33m         \u001b[1;32mreturn\u001b[0m \u001b[0mself\u001b[0m\u001b[1;33m.\u001b[0m\u001b[0m_render\u001b[0m\u001b[1;33m(\u001b[0m\u001b[0mmode\u001b[0m\u001b[1;33m=\u001b[0m\u001b[0mmode\u001b[0m\u001b[1;33m,\u001b[0m \u001b[0mclose\u001b[0m\u001b[1;33m=\u001b[0m\u001b[0mclose\u001b[0m\u001b[1;33m)\u001b[0m\u001b[1;33m\u001b[0m\u001b[0m\n\u001b[0m\u001b[0;32m    151\u001b[0m \u001b[1;33m\u001b[0m\u001b[0m\n\u001b[0;32m    152\u001b[0m     \u001b[1;32mdef\u001b[0m \u001b[0mclose\u001b[0m\u001b[1;33m(\u001b[0m\u001b[0mself\u001b[0m\u001b[1;33m)\u001b[0m\u001b[1;33m:\u001b[0m\u001b[1;33m\u001b[0m\u001b[0m\n",
      "\u001b[1;32mc:\\cygwin64\\home\\jeremy\\reinforcement-learning\\gym\\gym\\core.py\u001b[0m in \u001b[0;36m_render\u001b[1;34m(self, mode, close)\u001b[0m\n\u001b[0;32m    284\u001b[0m \u001b[1;33m\u001b[0m\u001b[0m\n\u001b[0;32m    285\u001b[0m     \u001b[1;32mdef\u001b[0m \u001b[0m_render\u001b[0m\u001b[1;33m(\u001b[0m\u001b[0mself\u001b[0m\u001b[1;33m,\u001b[0m \u001b[0mmode\u001b[0m\u001b[1;33m=\u001b[0m\u001b[1;34m'human'\u001b[0m\u001b[1;33m,\u001b[0m \u001b[0mclose\u001b[0m\u001b[1;33m=\u001b[0m\u001b[1;32mFalse\u001b[0m\u001b[1;33m)\u001b[0m\u001b[1;33m:\u001b[0m\u001b[1;33m\u001b[0m\u001b[0m\n\u001b[1;32m--> 286\u001b[1;33m         \u001b[1;32mreturn\u001b[0m \u001b[0mself\u001b[0m\u001b[1;33m.\u001b[0m\u001b[0menv\u001b[0m\u001b[1;33m.\u001b[0m\u001b[0mrender\u001b[0m\u001b[1;33m(\u001b[0m\u001b[0mmode\u001b[0m\u001b[1;33m,\u001b[0m \u001b[0mclose\u001b[0m\u001b[1;33m)\u001b[0m\u001b[1;33m\u001b[0m\u001b[0m\n\u001b[0m\u001b[0;32m    287\u001b[0m \u001b[1;33m\u001b[0m\u001b[0m\n\u001b[0;32m    288\u001b[0m     \u001b[1;32mdef\u001b[0m \u001b[0m_close\u001b[0m\u001b[1;33m(\u001b[0m\u001b[0mself\u001b[0m\u001b[1;33m)\u001b[0m\u001b[1;33m:\u001b[0m\u001b[1;33m\u001b[0m\u001b[0m\n",
      "\u001b[1;32mc:\\cygwin64\\home\\jeremy\\reinforcement-learning\\gym\\gym\\core.py\u001b[0m in \u001b[0;36mrender\u001b[1;34m(self, mode, close)\u001b[0m\n\u001b[0;32m    148\u001b[0m             \u001b[1;32melif\u001b[0m \u001b[0mmode\u001b[0m \u001b[1;32mnot\u001b[0m \u001b[1;32min\u001b[0m \u001b[0mmodes\u001b[0m\u001b[1;33m:\u001b[0m\u001b[1;33m\u001b[0m\u001b[0m\n\u001b[0;32m    149\u001b[0m                 \u001b[1;32mraise\u001b[0m \u001b[0merror\u001b[0m\u001b[1;33m.\u001b[0m\u001b[0mUnsupportedMode\u001b[0m\u001b[1;33m(\u001b[0m\u001b[1;34m'Unsupported rendering mode: {}. (Supported modes for {}: {})'\u001b[0m\u001b[1;33m.\u001b[0m\u001b[0mformat\u001b[0m\u001b[1;33m(\u001b[0m\u001b[0mmode\u001b[0m\u001b[1;33m,\u001b[0m \u001b[0mself\u001b[0m\u001b[1;33m,\u001b[0m \u001b[0mmodes\u001b[0m\u001b[1;33m)\u001b[0m\u001b[1;33m)\u001b[0m\u001b[1;33m\u001b[0m\u001b[0m\n\u001b[1;32m--> 150\u001b[1;33m         \u001b[1;32mreturn\u001b[0m \u001b[0mself\u001b[0m\u001b[1;33m.\u001b[0m\u001b[0m_render\u001b[0m\u001b[1;33m(\u001b[0m\u001b[0mmode\u001b[0m\u001b[1;33m=\u001b[0m\u001b[0mmode\u001b[0m\u001b[1;33m,\u001b[0m \u001b[0mclose\u001b[0m\u001b[1;33m=\u001b[0m\u001b[0mclose\u001b[0m\u001b[1;33m)\u001b[0m\u001b[1;33m\u001b[0m\u001b[0m\n\u001b[0m\u001b[0;32m    151\u001b[0m \u001b[1;33m\u001b[0m\u001b[0m\n\u001b[0;32m    152\u001b[0m     \u001b[1;32mdef\u001b[0m \u001b[0mclose\u001b[0m\u001b[1;33m(\u001b[0m\u001b[0mself\u001b[0m\u001b[1;33m)\u001b[0m\u001b[1;33m:\u001b[0m\u001b[1;33m\u001b[0m\u001b[0m\n",
      "\u001b[1;32mc:\\cygwin64\\home\\jeremy\\reinforcement-learning\\gym\\gym\\envs\\classic_control\\cartpole.py\u001b[0m in \u001b[0;36m_render\u001b[1;34m(self, mode, close)\u001b[0m\n\u001b[0;32m    144\u001b[0m         \u001b[0mself\u001b[0m\u001b[1;33m.\u001b[0m\u001b[0mpoletrans\u001b[0m\u001b[1;33m.\u001b[0m\u001b[0mset_rotation\u001b[0m\u001b[1;33m(\u001b[0m\u001b[1;33m-\u001b[0m\u001b[0mx\u001b[0m\u001b[1;33m[\u001b[0m\u001b[1;36m2\u001b[0m\u001b[1;33m]\u001b[0m\u001b[1;33m)\u001b[0m\u001b[1;33m\u001b[0m\u001b[0m\n\u001b[0;32m    145\u001b[0m \u001b[1;33m\u001b[0m\u001b[0m\n\u001b[1;32m--> 146\u001b[1;33m         \u001b[1;32mreturn\u001b[0m \u001b[0mself\u001b[0m\u001b[1;33m.\u001b[0m\u001b[0mviewer\u001b[0m\u001b[1;33m.\u001b[0m\u001b[0mrender\u001b[0m\u001b[1;33m(\u001b[0m\u001b[0mreturn_rgb_array\u001b[0m \u001b[1;33m=\u001b[0m \u001b[0mmode\u001b[0m\u001b[1;33m==\u001b[0m\u001b[1;34m'rgb_array'\u001b[0m\u001b[1;33m)\u001b[0m\u001b[1;33m\u001b[0m\u001b[0m\n\u001b[0m",
      "\u001b[1;32mc:\\cygwin64\\home\\jeremy\\reinforcement-learning\\gym\\gym\\envs\\classic_control\\rendering.py\u001b[0m in \u001b[0;36mrender\u001b[1;34m(self, return_rgb_array)\u001b[0m\n\u001b[0;32m    102\u001b[0m             \u001b[0marr\u001b[0m \u001b[1;33m=\u001b[0m \u001b[0marr\u001b[0m\u001b[1;33m.\u001b[0m\u001b[0mreshape\u001b[0m\u001b[1;33m(\u001b[0m\u001b[0mbuffer\u001b[0m\u001b[1;33m.\u001b[0m\u001b[0mheight\u001b[0m\u001b[1;33m,\u001b[0m \u001b[0mbuffer\u001b[0m\u001b[1;33m.\u001b[0m\u001b[0mwidth\u001b[0m\u001b[1;33m,\u001b[0m \u001b[1;36m4\u001b[0m\u001b[1;33m)\u001b[0m\u001b[1;33m\u001b[0m\u001b[0m\n\u001b[0;32m    103\u001b[0m             \u001b[0marr\u001b[0m \u001b[1;33m=\u001b[0m \u001b[0marr\u001b[0m\u001b[1;33m[\u001b[0m\u001b[1;33m:\u001b[0m\u001b[1;33m:\u001b[0m\u001b[1;33m-\u001b[0m\u001b[1;36m1\u001b[0m\u001b[1;33m,\u001b[0m\u001b[1;33m:\u001b[0m\u001b[1;33m,\u001b[0m\u001b[1;36m0\u001b[0m\u001b[1;33m:\u001b[0m\u001b[1;36m3\u001b[0m\u001b[1;33m]\u001b[0m\u001b[1;33m\u001b[0m\u001b[0m\n\u001b[1;32m--> 104\u001b[1;33m         \u001b[0mself\u001b[0m\u001b[1;33m.\u001b[0m\u001b[0mwindow\u001b[0m\u001b[1;33m.\u001b[0m\u001b[0mflip\u001b[0m\u001b[1;33m(\u001b[0m\u001b[1;33m)\u001b[0m\u001b[1;33m\u001b[0m\u001b[0m\n\u001b[0m\u001b[0;32m    105\u001b[0m         \u001b[0mself\u001b[0m\u001b[1;33m.\u001b[0m\u001b[0monetime_geoms\u001b[0m \u001b[1;33m=\u001b[0m \u001b[1;33m[\u001b[0m\u001b[1;33m]\u001b[0m\u001b[1;33m\u001b[0m\u001b[0m\n\u001b[0;32m    106\u001b[0m         \u001b[1;32mreturn\u001b[0m \u001b[0marr\u001b[0m\u001b[1;33m\u001b[0m\u001b[0m\n",
      "\u001b[1;32mc:\\users\\junwe\\appdata\\local\\programs\\python\\python35\\lib\\site-packages\\pyglet\\window\\win32\\__init__.py\u001b[0m in \u001b[0;36mflip\u001b[1;34m(self)\u001b[0m\n\u001b[0;32m    309\u001b[0m     \u001b[1;32mdef\u001b[0m \u001b[0mflip\u001b[0m\u001b[1;33m(\u001b[0m\u001b[0mself\u001b[0m\u001b[1;33m)\u001b[0m\u001b[1;33m:\u001b[0m\u001b[1;33m\u001b[0m\u001b[0m\n\u001b[0;32m    310\u001b[0m         \u001b[0mself\u001b[0m\u001b[1;33m.\u001b[0m\u001b[0mdraw_mouse_cursor\u001b[0m\u001b[1;33m(\u001b[0m\u001b[1;33m)\u001b[0m\u001b[1;33m\u001b[0m\u001b[0m\n\u001b[1;32m--> 311\u001b[1;33m         \u001b[0mself\u001b[0m\u001b[1;33m.\u001b[0m\u001b[0mcontext\u001b[0m\u001b[1;33m.\u001b[0m\u001b[0mflip\u001b[0m\u001b[1;33m(\u001b[0m\u001b[1;33m)\u001b[0m\u001b[1;33m\u001b[0m\u001b[0m\n\u001b[0m\u001b[0;32m    312\u001b[0m \u001b[1;33m\u001b[0m\u001b[0m\n\u001b[0;32m    313\u001b[0m     \u001b[1;32mdef\u001b[0m \u001b[0mset_location\u001b[0m\u001b[1;33m(\u001b[0m\u001b[0mself\u001b[0m\u001b[1;33m,\u001b[0m \u001b[0mx\u001b[0m\u001b[1;33m,\u001b[0m \u001b[0my\u001b[0m\u001b[1;33m)\u001b[0m\u001b[1;33m:\u001b[0m\u001b[1;33m\u001b[0m\u001b[0m\n",
      "\u001b[1;31mAttributeError\u001b[0m: 'NoneType' object has no attribute 'flip'"
     ]
    }
   ],
   "source": [
    "import gym\n",
    "env = gym.make('CartPole-v0')\n",
    "for i_episode in range(20):\n",
    "    observation = env.reset()\n",
    "    for t in range(100):\n",
    "        env.render()\n",
    "        print(observation)\n",
    "        action = env.action_space.sample() #sampling random actions from the action space\n",
    "        observation, reward, done, info = env.step(action)\n",
    "        if done:\n",
    "            print(\"Episode finished after {} timesteps\".format(t+1))\n",
    "            break"
   ]
  },
  {
   "cell_type": "markdown",
   "metadata": {},
   "source": [
    "## spaces"
   ]
  },
  {
   "cell_type": "code",
   "execution_count": 2,
   "metadata": {},
   "outputs": [
    {
     "name": "stdout",
     "output_type": "stream",
     "text": [
      "Discrete(2)\n"
     ]
    }
   ],
   "source": [
    "print(env.action_space) #discrete allows a fixed range of non-negative numbers"
   ]
  },
  {
   "cell_type": "code",
   "execution_count": 3,
   "metadata": {
    "scrolled": true
   },
   "outputs": [
    {
     "name": "stdout",
     "output_type": "stream",
     "text": [
      "Box(4,)\n"
     ]
    }
   ],
   "source": [
    "print(env.observation_space) #box represents an n-dimensional box"
   ]
  },
  {
   "cell_type": "code",
   "execution_count": 7,
   "metadata": {},
   "outputs": [
    {
     "name": "stdout",
     "output_type": "stream",
     "text": [
      "[  4.80000000e+00   3.40282347e+38   4.18879020e-01   3.40282347e+38]\n",
      "[ -4.80000000e+00  -3.40282347e+38  -4.18879020e-01  -3.40282347e+38]\n"
     ]
    }
   ],
   "source": [
    "# we can check the bounds of observation space like this\n",
    "print(env.observation_space.high)\n",
    "print(env.observation_space.low)"
   ]
  },
  {
   "cell_type": "code",
   "execution_count": 8,
   "metadata": {
    "collapsed": true
   },
   "outputs": [],
   "source": [
    "from gym import spaces\n",
    "space = spaces.Discrete(8) # Set with 8 elements {0, 1, 2, ..., 7}\n",
    "x = space.sample()\n",
    "assert space.contains(x)\n",
    "assert space.n == 8"
   ]
  },
  {
   "cell_type": "markdown",
   "metadata": {},
   "source": [
    "## env"
   ]
  },
  {
   "cell_type": "code",
   "execution_count": 10,
   "metadata": {},
   "outputs": [
    {
     "name": "stdout",
     "output_type": "stream",
     "text": [
      "dict_values([EnvSpec(Krull-ram-v4), EnvSpec(KungFuMaster-ramDeterministic-v4), EnvSpec(ElevatorActionNoFrameskip-v0), EnvSpec(Enduro-ram-v4), EnvSpec(DemonAttack-ramDeterministic-v0), EnvSpec(RiverraidDeterministic-v0), EnvSpec(BerzerkNoFrameskip-v4), EnvSpec(TimePilotDeterministic-v4), EnvSpec(BattleZoneNoFrameskip-v0), EnvSpec(Jamesbond-ramDeterministic-v0), EnvSpec(Walker2d-v1), EnvSpec(Bowling-v4), EnvSpec(AmidarDeterministic-v4), EnvSpec(Asteroids-ramDeterministic-v0), EnvSpec(Tennis-v0), EnvSpec(ChopperCommandNoFrameskip-v4), EnvSpec(NameThisGame-ramNoFrameskip-v4), EnvSpec(DoubleDunk-ramNoFrameskip-v4), EnvSpec(MsPacman-ram-v4), EnvSpec(TimePilot-ramDeterministic-v4), EnvSpec(CrazyClimberDeterministic-v4), EnvSpec(AsteroidsDeterministic-v0), EnvSpec(AlienNoFrameskip-v0), EnvSpec(Robotank-ram-v0), EnvSpec(AsteroidsNoFrameskip-v4), EnvSpec(HalfCheetah-v1), EnvSpec(BoxingDeterministic-v4), EnvSpec(Solaris-ramDeterministic-v0), EnvSpec(AlienDeterministic-v4), EnvSpec(Phoenix-ramDeterministic-v0), EnvSpec(ZaxxonNoFrameskip-v4), EnvSpec(NameThisGameNoFrameskip-v0), EnvSpec(DoubleDunkDeterministic-v0), EnvSpec(Jamesbond-v4), EnvSpec(Reverse-v0), EnvSpec(RiverraidDeterministic-v4), EnvSpec(DoubleDunkDeterministic-v4), EnvSpec(ChopperCommand-v0), EnvSpec(Gopher-ram-v0), EnvSpec(VideoPinball-v4), EnvSpec(KungFuMaster-v4), EnvSpec(Asteroids-ram-v4), EnvSpec(Tutankham-ram-v4), EnvSpec(Amidar-ram-v0), EnvSpec(Qbert-ramDeterministic-v4), EnvSpec(Jamesbond-ram-v0), EnvSpec(BeamRider-ramNoFrameskip-v0), EnvSpec(Breakout-ram-v0), EnvSpec(RobotankNoFrameskip-v0), EnvSpec(Freeway-ramDeterministic-v4), EnvSpec(Frostbite-ram-v0), EnvSpec(Riverraid-ramDeterministic-v0), EnvSpec(NameThisGameNoFrameskip-v4), EnvSpec(TimePilot-ramNoFrameskip-v0), EnvSpec(MontezumaRevengeNoFrameskip-v4), EnvSpec(MountainCarContinuous-v0), EnvSpec(PitfallNoFrameskip-v0), EnvSpec(Zaxxon-ram-v0), EnvSpec(Venture-v0), EnvSpec(FreewayNoFrameskip-v0), EnvSpec(Berzerk-ram-v4), EnvSpec(Kangaroo-v0), EnvSpec(QbertDeterministic-v0), EnvSpec(Asterix-ramNoFrameskip-v4), EnvSpec(AirRaid-ram-v0), EnvSpec(Hero-ramDeterministic-v4), EnvSpec(Bowling-v0), EnvSpec(KungFuMaster-ramNoFrameskip-v4), EnvSpec(Assault-ram-v4), EnvSpec(Gravitar-ram-v4), EnvSpec(PhoenixDeterministic-v0), EnvSpec(JourneyEscapeNoFrameskip-v0), EnvSpec(GopherNoFrameskip-v0), EnvSpec(Seaquest-ram-v0), EnvSpec(Kangaroo-ramNoFrameskip-v4), EnvSpec(Robotank-ramDeterministic-v4), EnvSpec(Roulette-v0), EnvSpec(CrazyClimber-v4), EnvSpec(TimePilotNoFrameskip-v4), EnvSpec(RoadRunner-ramDeterministic-v0), EnvSpec(BowlingDeterministic-v0), EnvSpec(Enduro-v0), EnvSpec(Asteroids-v4), EnvSpec(Amidar-ram-v4), EnvSpec(JourneyEscape-v4), EnvSpec(Bowling-ramNoFrameskip-v4), EnvSpec(Amidar-ramNoFrameskip-v4), EnvSpec(SpaceInvaders-ramDeterministic-v4), EnvSpec(Phoenix-v0), EnvSpec(AsterixDeterministic-v4), EnvSpec(Berzerk-ramNoFrameskip-v0), EnvSpec(Boxing-v0), EnvSpec(Jamesbond-ramDeterministic-v4), EnvSpec(Gopher-ramDeterministic-v0), EnvSpec(RoadRunner-ramNoFrameskip-v0), EnvSpec(MsPacman-ramNoFrameskip-v4), EnvSpec(TutankhamNoFrameskip-v4), EnvSpec(DoubleDunk-ramDeterministic-v0), EnvSpec(MsPacman-ramDeterministic-v0), EnvSpec(Hero-ram-v4), EnvSpec(Zaxxon-v4), EnvSpec(Gravitar-ramNoFrameskip-v0), EnvSpec(FishingDerbyNoFrameskip-v0), EnvSpec(BattleZone-ramDeterministic-v4), EnvSpec(Enduro-ram-v0), EnvSpec(Bowling-ramDeterministic-v4), EnvSpec(ElevatorActionDeterministic-v0), EnvSpec(GravitarDeterministic-v4), EnvSpec(Go9x9-v0), EnvSpec(PooyanNoFrameskip-v4), EnvSpec(BeamRiderDeterministic-v4), EnvSpec(JamesbondNoFrameskip-v0), EnvSpec(AssaultDeterministic-v0), EnvSpec(StarGunner-v0), EnvSpec(BeamRider-ramDeterministic-v4), EnvSpec(Gravitar-v4), EnvSpec(StarGunner-ram-v0), EnvSpec(Enduro-ramNoFrameskip-v4), EnvSpec(BattleZone-ramDeterministic-v0), EnvSpec(CentipedeDeterministic-v4), EnvSpec(AirRaidDeterministic-v0), EnvSpec(BattleZone-v0), EnvSpec(Seaquest-ramNoFrameskip-v4), EnvSpec(Pitfall-v0), EnvSpec(Pitfall-ram-v4), EnvSpec(IceHockey-ramDeterministic-v0), EnvSpec(Enduro-v4), EnvSpec(Qbert-ram-v4), EnvSpec(YarsRevenge-ramDeterministic-v0), EnvSpec(JourneyEscapeDeterministic-v4), EnvSpec(Centipede-ramNoFrameskip-v0), EnvSpec(CrazyClimber-ramDeterministic-v4), EnvSpec(AtlantisNoFrameskip-v0), EnvSpec(DoubleDunk-ram-v0), EnvSpec(KungFuMaster-ram-v4), EnvSpec(FishingDerbyDeterministic-v4), EnvSpec(Qbert-ramNoFrameskip-v0), EnvSpec(ChopperCommand-ramNoFrameskip-v4), EnvSpec(Kangaroo-v4), EnvSpec(CarnivalNoFrameskip-v4), EnvSpec(OneRoundNondeterministicReward-v0), EnvSpec(SkiingDeterministic-v4), EnvSpec(UpNDown-v0), EnvSpec(RiverraidNoFrameskip-v4), EnvSpec(Hero-v4), EnvSpec(StarGunner-ramDeterministic-v0), EnvSpec(YarsRevenge-ram-v0), EnvSpec(Zaxxon-ramDeterministic-v4), EnvSpec(TimePilot-ramDeterministic-v0), EnvSpec(HeroDeterministic-v0), EnvSpec(Skiing-ram-v4), EnvSpec(BreakoutDeterministic-v0), EnvSpec(WizardOfWor-ramNoFrameskip-v4), EnvSpec(SolarisNoFrameskip-v0), EnvSpec(BipedalWalkerHardcore-v2), EnvSpec(MsPacman-v4), EnvSpec(Pong-ramNoFrameskip-v4), EnvSpec(JourneyEscape-v0), EnvSpec(SeaquestNoFrameskip-v4), EnvSpec(RobotankDeterministic-v0), EnvSpec(AssaultNoFrameskip-v4), EnvSpec(Pooyan-ramNoFrameskip-v0), EnvSpec(Amidar-v4), EnvSpec(MontezumaRevenge-v0), EnvSpec(CrazyClimber-v0), EnvSpec(DemonAttack-ramDeterministic-v4), EnvSpec(Freeway-ramDeterministic-v0), EnvSpec(BeamRider-ram-v0), EnvSpec(Robotank-ramNoFrameskip-v0), EnvSpec(Assault-ramNoFrameskip-v4), EnvSpec(Gopher-ramDeterministic-v4), EnvSpec(SpaceInvadersDeterministic-v0), EnvSpec(UpNDownDeterministic-v4), EnvSpec(RoadRunner-ramNoFrameskip-v4), EnvSpec(Asterix-ramDeterministic-v4), EnvSpec(Striker-v0), EnvSpec(Breakout-v4), EnvSpec(CentipedeNoFrameskip-v4), EnvSpec(BipedalWalker-v2), EnvSpec(Alien-ramDeterministic-v4), EnvSpec(Solaris-ram-v0), EnvSpec(Tennis-ramNoFrameskip-v0), EnvSpec(UpNDown-ramDeterministic-v0), EnvSpec(PrivateEye-v4), EnvSpec(SpaceInvaders-ram-v0), EnvSpec(AirRaidNoFrameskip-v0), EnvSpec(BoxingNoFrameskip-v4), EnvSpec(FishingDerby-ramNoFrameskip-v4), EnvSpec(Qbert-ram-v0), EnvSpec(SolarisNoFrameskip-v4), EnvSpec(Pooyan-ram-v4), EnvSpec(Pitfall-ramNoFrameskip-v0), EnvSpec(TennisNoFrameskip-v0), EnvSpec(Tutankham-ramDeterministic-v4), EnvSpec(JourneyEscape-ramDeterministic-v0), EnvSpec(Freeway-v4), EnvSpec(PooyanNoFrameskip-v0), EnvSpec(BerzerkDeterministic-v4), EnvSpec(Asterix-ramDeterministic-v0), EnvSpec(Humanoid-v1), EnvSpec(JamesbondDeterministic-v4), EnvSpec(PrivateEyeNoFrameskip-v4), EnvSpec(WizardOfWorNoFrameskip-v4), EnvSpec(AlienNoFrameskip-v4), EnvSpec(Riverraid-ramNoFrameskip-v0), EnvSpec(Amidar-v0), EnvSpec(Hero-ramNoFrameskip-v0), EnvSpec(StarGunnerNoFrameskip-v0), EnvSpec(Enduro-ramDeterministic-v0), EnvSpec(YarsRevenge-v4), EnvSpec(ElevatorActionDeterministic-v4), EnvSpec(Phoenix-v4), EnvSpec(CliffWalking-v0), EnvSpec(Solaris-ramNoFrameskip-v0), EnvSpec(WizardOfWor-v0), EnvSpec(Krull-ramDeterministic-v4), EnvSpec(Boxing-ramDeterministic-v0), EnvSpec(FishingDerbyNoFrameskip-v4), EnvSpec(GravitarNoFrameskip-v4), EnvSpec(Kangaroo-ramDeterministic-v0), EnvSpec(LunarLander-v2), EnvSpec(CarRacing-v0), EnvSpec(IceHockey-ram-v4), EnvSpec(PongDeterministic-v4), EnvSpec(AirRaidNoFrameskip-v4), EnvSpec(HeroNoFrameskip-v0), EnvSpec(Pong-ram-v4), EnvSpec(Carnival-v4), EnvSpec(Alien-ram-v0), EnvSpec(BreakoutNoFrameskip-v0), EnvSpec(Seaquest-ramDeterministic-v0), EnvSpec(Krull-v0), EnvSpec(ElevatorAction-v0), EnvSpec(BattleZone-v4), EnvSpec(Venture-ramNoFrameskip-v4), EnvSpec(KangarooDeterministic-v4), EnvSpec(KungFuMaster-ram-v0), EnvSpec(PooyanDeterministic-v4), EnvSpec(RoadRunner-ramDeterministic-v4), EnvSpec(Solaris-v0), EnvSpec(GopherDeterministic-v4), EnvSpec(WizardOfWorDeterministic-v0), EnvSpec(RoadRunner-v0), EnvSpec(Asteroids-ramDeterministic-v4), EnvSpec(BankHeist-v0), EnvSpec(Ant-v1), EnvSpec(SpaceInvaders-ramDeterministic-v0), EnvSpec(YarsRevenge-ramNoFrameskip-v0), EnvSpec(KrullNoFrameskip-v0), EnvSpec(Jamesbond-ramNoFrameskip-v4), EnvSpec(Amidar-ramDeterministic-v0), EnvSpec(Robotank-ramDeterministic-v0), EnvSpec(WizardOfWor-ram-v4), EnvSpec(WizardOfWor-ramNoFrameskip-v0), EnvSpec(WizardOfWor-ramDeterministic-v0), EnvSpec(ChopperCommand-ramDeterministic-v0), EnvSpec(BattleZoneDeterministic-v0), EnvSpec(YarsRevenge-v0), EnvSpec(AsterixNoFrameskip-v4), EnvSpec(Pooyan-v4), EnvSpec(GopherNoFrameskip-v4), EnvSpec(Copy-v0), EnvSpec(RobotankNoFrameskip-v4), EnvSpec(BeamRider-v0), EnvSpec(BankHeist-ramNoFrameskip-v0), EnvSpec(Riverraid-ramNoFrameskip-v4), EnvSpec(FishingDerby-ramDeterministic-v0), EnvSpec(FrostbiteDeterministic-v0), EnvSpec(Tennis-ram-v4), EnvSpec(QbertNoFrameskip-v0), EnvSpec(AssaultNoFrameskip-v0), EnvSpec(Skiing-ramNoFrameskip-v4), EnvSpec(TutankhamNoFrameskip-v0), EnvSpec(Tennis-ram-v0), EnvSpec(DemonAttackDeterministic-v4), EnvSpec(FrostbiteDeterministic-v4), EnvSpec(WizardOfWor-v4), EnvSpec(MountainCar-v0), EnvSpec(HeroNoFrameskip-v4), EnvSpec(Breakout-ramDeterministic-v4), EnvSpec(Kangaroo-ramDeterministic-v4), EnvSpec(Frostbite-ramNoFrameskip-v4), EnvSpec(BerzerkDeterministic-v0), EnvSpec(SolarisDeterministic-v0), EnvSpec(LunarLanderContinuous-v2), EnvSpec(Berzerk-ramDeterministic-v4), EnvSpec(BankHeist-ramDeterministic-v4), EnvSpec(ElevatorAction-ramDeterministic-v4), EnvSpec(MsPacman-ram-v0), EnvSpec(Gopher-ramNoFrameskip-v4), EnvSpec(BeamRider-ram-v4), EnvSpec(AsterixNoFrameskip-v0), EnvSpec(Pong-v0), EnvSpec(Pendulum-v0), EnvSpec(Phoenix-ramNoFrameskip-v4), EnvSpec(PrivateEye-ram-v0), EnvSpec(Breakout-ramNoFrameskip-v0), EnvSpec(SpaceInvaders-v0), EnvSpec(PrivateEye-ram-v4), EnvSpec(Tutankham-ramNoFrameskip-v0), EnvSpec(BowlingNoFrameskip-v4), EnvSpec(Kangaroo-ram-v4), EnvSpec(Riverraid-v4), EnvSpec(DoubleDunk-v4), EnvSpec(VideoPinball-ramNoFrameskip-v4), EnvSpec(MontezumaRevenge-ram-v0), EnvSpec(BeamRider-ramNoFrameskip-v4), EnvSpec(Taxi-v2), EnvSpec(Pong-v4), EnvSpec(KungFuMasterDeterministic-v0), EnvSpec(Seaquest-ramDeterministic-v4), EnvSpec(Pong-ramDeterministic-v4), EnvSpec(IceHockey-v0), EnvSpec(Seaquest-v0), EnvSpec(MontezumaRevenge-ramNoFrameskip-v4), EnvSpec(VideoPinball-ram-v0), EnvSpec(SemisuperPendulumNoise-v0), EnvSpec(NameThisGameDeterministic-v4), EnvSpec(PrivateEye-ramDeterministic-v0), EnvSpec(PrivateEyeDeterministic-v4), EnvSpec(CarnivalDeterministic-v4), EnvSpec(PongNoFrameskip-v0), EnvSpec(MsPacman-ramDeterministic-v4), EnvSpec(Venture-ramDeterministic-v0), EnvSpec(Asteroids-ramNoFrameskip-v4), EnvSpec(CrazyClimberNoFrameskip-v4), EnvSpec(SeaquestDeterministic-v0), EnvSpec(SeaquestDeterministic-v4), EnvSpec(MontezumaRevenge-ramNoFrameskip-v0), EnvSpec(Pooyan-ramNoFrameskip-v4), EnvSpec(TennisNoFrameskip-v4), EnvSpec(Solaris-v4), EnvSpec(Skiing-ram-v0), EnvSpec(BoxingNoFrameskip-v0), EnvSpec(YarsRevengeDeterministic-v4), EnvSpec(NameThisGame-v0), EnvSpec(Pooyan-v0), EnvSpec(IceHockey-ramNoFrameskip-v4), EnvSpec(GuessingGame-v0), EnvSpec(DemonAttack-ramNoFrameskip-v0), EnvSpec(IceHockey-ramDeterministic-v4), EnvSpec(Pitfall-v4), EnvSpec(Centipede-ram-v4), EnvSpec(Frostbite-v0), EnvSpec(Jamesbond-v0), EnvSpec(Gravitar-ramDeterministic-v0), EnvSpec(Tutankham-ramDeterministic-v0), EnvSpec(YarsRevenge-ramDeterministic-v4), EnvSpec(Hero-ramDeterministic-v0), EnvSpec(RoadRunner-v4), EnvSpec(BeamRider-v4), EnvSpec(UpNDownNoFrameskip-v4), EnvSpec(DemonAttackNoFrameskip-v4), EnvSpec(Centipede-v0), EnvSpec(Breakout-v0), EnvSpec(GopherDeterministic-v0), EnvSpec(YarsRevengeNoFrameskip-v4), EnvSpec(RoadRunnerDeterministic-v0), EnvSpec(ChopperCommand-ramDeterministic-v4), EnvSpec(Robotank-v0), EnvSpec(PitfallDeterministic-v0), EnvSpec(Krull-ramNoFrameskip-v0), EnvSpec(MsPacmanNoFrameskip-v0), EnvSpec(NameThisGame-ramDeterministic-v4), EnvSpec(InvertedDoublePendulum-v1), EnvSpec(UpNDown-v4), EnvSpec(KangarooNoFrameskip-v0), EnvSpec(MsPacman-ramNoFrameskip-v0), EnvSpec(QbertNoFrameskip-v4), EnvSpec(VentureDeterministic-v0), EnvSpec(Bowling-ramNoFrameskip-v0), EnvSpec(Gopher-ramNoFrameskip-v0), EnvSpec(KrullDeterministic-v0), EnvSpec(TimePilotNoFrameskip-v0), EnvSpec(ChopperCommand-ram-v0), EnvSpec(Skiing-v0), EnvSpec(HumanoidStandup-v1), EnvSpec(FrostbiteNoFrameskip-v0), EnvSpec(AirRaid-ramNoFrameskip-v4), EnvSpec(CrazyClimber-ramDeterministic-v0), EnvSpec(Skiing-ramDeterministic-v4), EnvSpec(SpaceInvaders-ramNoFrameskip-v0), EnvSpec(Assault-ramDeterministic-v0), EnvSpec(Centipede-ramNoFrameskip-v4), EnvSpec(Hero-v0), EnvSpec(VideoPinballNoFrameskip-v0), EnvSpec(Seaquest-ram-v4), EnvSpec(RobotankDeterministic-v4), EnvSpec(SpaceInvadersDeterministic-v4), EnvSpec(Riverraid-ram-v0), EnvSpec(BoxingDeterministic-v0), EnvSpec(DemonAttack-ramNoFrameskip-v4), EnvSpec(Tennis-ramDeterministic-v4), EnvSpec(CarnivalNoFrameskip-v0), EnvSpec(Frostbite-ramDeterministic-v4), EnvSpec(KellyCoinflipGeneralized-v0), EnvSpec(CrazyClimber-ramNoFrameskip-v4), EnvSpec(BankHeistNoFrameskip-v4), EnvSpec(CartPole-v0), EnvSpec(JourneyEscape-ram-v4), EnvSpec(Boxing-v4), EnvSpec(UpNDownDeterministic-v0), EnvSpec(TutankhamDeterministic-v0), EnvSpec(InvertedPendulum-v1), EnvSpec(AmidarNoFrameskip-v4), EnvSpec(Asteroids-v0), EnvSpec(Venture-ramDeterministic-v4), EnvSpec(DoubleDunkNoFrameskip-v0), EnvSpec(BattleZone-ram-v4), EnvSpec(BattleZone-ramNoFrameskip-v4), EnvSpec(ElevatorAction-ramDeterministic-v0), EnvSpec(Reacher-v1), EnvSpec(Pitfall-ram-v0), EnvSpec(FishingDerby-ramDeterministic-v4), EnvSpec(Tennis-v4), EnvSpec(Krull-ram-v0), EnvSpec(NameThisGame-v4), EnvSpec(Boxing-ram-v4), EnvSpec(Freeway-ramNoFrameskip-v0), EnvSpec(Qbert-v4), EnvSpec(Robotank-v4), EnvSpec(Atlantis-v0), EnvSpec(KungFuMaster-ramNoFrameskip-v0), EnvSpec(AssaultDeterministic-v4), EnvSpec(Atlantis-v4), EnvSpec(PrivateEyeNoFrameskip-v0), EnvSpec(Acrobot-v1), EnvSpec(ChopperCommand-v4), EnvSpec(AtlantisDeterministic-v0), EnvSpec(BattleZoneDeterministic-v4), EnvSpec(NChain-v0), EnvSpec(Atlantis-ramDeterministic-v0), EnvSpec(Gravitar-ram-v0), EnvSpec(TimePilot-ramNoFrameskip-v4), EnvSpec(ElevatorAction-ram-v4), EnvSpec(RoadRunnerNoFrameskip-v0), EnvSpec(Boxing-ramDeterministic-v4), EnvSpec(DuplicatedInput-v0), EnvSpec(SolarisDeterministic-v4), EnvSpec(FishingDerby-ram-v4), EnvSpec(BankHeist-ramNoFrameskip-v4), EnvSpec(KungFuMasterDeterministic-v4), EnvSpec(ReversedAddition-v0), EnvSpec(Bowling-ram-v4), EnvSpec(BankHeist-ramDeterministic-v0), EnvSpec(Asterix-v4), EnvSpec(EnduroDeterministic-v0), EnvSpec(KrullNoFrameskip-v4), EnvSpec(JourneyEscape-ram-v0), EnvSpec(FreewayDeterministic-v4), EnvSpec(TimePilot-v0), EnvSpec(Tutankham-v0), EnvSpec(Zaxxon-ramNoFrameskip-v0), EnvSpec(CentipedeNoFrameskip-v0), EnvSpec(AirRaid-ramDeterministic-v4), EnvSpec(StarGunner-ramDeterministic-v4), EnvSpec(AirRaid-ram-v4), EnvSpec(Go19x19-v0), EnvSpec(ZaxxonNoFrameskip-v0), EnvSpec(KungFuMaster-ramDeterministic-v0), EnvSpec(Skiing-ramDeterministic-v0), EnvSpec(Gravitar-ramDeterministic-v4), EnvSpec(FishingDerby-ramNoFrameskip-v0), EnvSpec(CNNClassifierTraining-v0), EnvSpec(Hero-ram-v0), EnvSpec(FrostbiteNoFrameskip-v4), EnvSpec(DemonAttack-v4), EnvSpec(Venture-ram-v0), EnvSpec(Pooyan-ramDeterministic-v0), EnvSpec(PrivateEye-ramDeterministic-v4), EnvSpec(Qbert-v0), EnvSpec(Frostbite-v4), EnvSpec(SpaceInvadersNoFrameskip-v4), EnvSpec(BankHeist-v4), EnvSpec(BowlingDeterministic-v4), EnvSpec(Zaxxon-v0), EnvSpec(Carnival-ramNoFrameskip-v4), EnvSpec(FreewayNoFrameskip-v4), EnvSpec(Atlantis-ramNoFrameskip-v4), EnvSpec(AirRaid-v0), EnvSpec(Qbert-ramDeterministic-v0), EnvSpec(Hero-ramNoFrameskip-v4), EnvSpec(Breakout-ramDeterministic-v0), EnvSpec(StarGunner-v4), EnvSpec(Solaris-ramDeterministic-v4), EnvSpec(IceHockeyNoFrameskip-v4), EnvSpec(Gopher-v0), EnvSpec(Asterix-ramNoFrameskip-v0), EnvSpec(Pitfall-ramNoFrameskip-v4), EnvSpec(Pooyan-ram-v0), EnvSpec(KrullDeterministic-v4), EnvSpec(YarsRevenge-ramNoFrameskip-v4), EnvSpec(DoubleDunk-v0), EnvSpec(Atlantis-ramNoFrameskip-v0), EnvSpec(BankHeist-ram-v0), EnvSpec(Carnival-ramNoFrameskip-v0), EnvSpec(RiverraidNoFrameskip-v0), EnvSpec(TwoRoundNondeterministicReward-v0), EnvSpec(CarnivalDeterministic-v0), EnvSpec(EnduroDeterministic-v4), EnvSpec(SpaceInvaders-ramNoFrameskip-v4), EnvSpec(TimePilotDeterministic-v0), EnvSpec(JamesbondNoFrameskip-v4), EnvSpec(TennisDeterministic-v4), EnvSpec(Carnival-ramDeterministic-v4), EnvSpec(NameThisGame-ramNoFrameskip-v0), EnvSpec(IceHockey-v4), EnvSpec(Alien-v4), EnvSpec(Gopher-ram-v4), EnvSpec(DoubleDunk-ramDeterministic-v4), EnvSpec(PhoenixNoFrameskip-v4), EnvSpec(AirRaid-v4), EnvSpec(Amidar-ramNoFrameskip-v0), EnvSpec(TutankhamDeterministic-v4), EnvSpec(Frostbite-ramDeterministic-v0), EnvSpec(MsPacmanDeterministic-v4), EnvSpec(AsterixDeterministic-v0), EnvSpec(UpNDown-ramNoFrameskip-v0), EnvSpec(DemonAttack-v0), EnvSpec(IceHockeyDeterministic-v4), EnvSpec(PongNoFrameskip-v4), EnvSpec(FrozenLake8x8-v0), EnvSpec(DoubleDunkNoFrameskip-v4), EnvSpec(MsPacmanNoFrameskip-v4), EnvSpec(WizardOfWorNoFrameskip-v0), EnvSpec(Enduro-ramNoFrameskip-v0), EnvSpec(IceHockeyNoFrameskip-v0), EnvSpec(BankHeistDeterministic-v0), EnvSpec(Phoenix-ramDeterministic-v4), EnvSpec(Carnival-ram-v4), EnvSpec(RoadRunnerDeterministic-v4), EnvSpec(Krull-v4), EnvSpec(PrivateEyeDeterministic-v0), EnvSpec(AsteroidsDeterministic-v4), EnvSpec(Gravitar-ramNoFrameskip-v4), EnvSpec(TwoRoundDeterministicReward-v0), EnvSpec(Amidar-ramDeterministic-v4), EnvSpec(UpNDown-ram-v0), EnvSpec(Pooyan-ramDeterministic-v4), EnvSpec(PongDeterministic-v0), EnvSpec(MontezumaRevengeDeterministic-v4), EnvSpec(CrazyClimberNoFrameskip-v0), EnvSpec(Atlantis-ramDeterministic-v4), EnvSpec(YarsRevenge-ram-v4), EnvSpec(PhoenixDeterministic-v4), EnvSpec(UpNDown-ram-v4), EnvSpec(Atlantis-ram-v0), EnvSpec(Asterix-ram-v0), EnvSpec(Breakout-ramNoFrameskip-v4), EnvSpec(StarGunnerDeterministic-v0), EnvSpec(BattleZone-ram-v0), EnvSpec(Freeway-ram-v4), EnvSpec(Riverraid-ramDeterministic-v4), EnvSpec(KungFuMaster-v0), EnvSpec(FishingDerbyDeterministic-v0), EnvSpec(Skiing-v4), EnvSpec(Boxing-ramNoFrameskip-v0), EnvSpec(Carnival-ramDeterministic-v0), EnvSpec(VentureNoFrameskip-v4), EnvSpec(SpaceInvadersNoFrameskip-v0), EnvSpec(DoubleDunk-ram-v4), EnvSpec(Pong-ram-v0), EnvSpec(Berzerk-v4), EnvSpec(GravitarDeterministic-v0), EnvSpec(ZaxxonDeterministic-v0), EnvSpec(RoadRunner-ram-v0), EnvSpec(CartPole-v1), EnvSpec(PooyanDeterministic-v0), EnvSpec(VideoPinball-ramDeterministic-v0), EnvSpec(WizardOfWor-ramDeterministic-v4), EnvSpec(IceHockeyDeterministic-v0), EnvSpec(IceHockey-ramNoFrameskip-v0), EnvSpec(HeroDeterministic-v4), EnvSpec(KellyCoinflip-v0), EnvSpec(ChopperCommandDeterministic-v0), EnvSpec(VideoPinball-v0), EnvSpec(DemonAttackDeterministic-v0), EnvSpec(BankHeist-ram-v4), EnvSpec(Carnival-v0), EnvSpec(ElevatorActionNoFrameskip-v4), EnvSpec(Frostbite-ram-v4), EnvSpec(SeaquestNoFrameskip-v0), EnvSpec(AirRaidDeterministic-v4), EnvSpec(Seaquest-v4), EnvSpec(Venture-ram-v4), EnvSpec(AlienDeterministic-v0), EnvSpec(SkiingNoFrameskip-v4), EnvSpec(BreakoutNoFrameskip-v4), EnvSpec(KungFuMasterNoFrameskip-v4), EnvSpec(SpaceInvaders-v4), EnvSpec(Jamesbond-ramNoFrameskip-v0), EnvSpec(VentureDeterministic-v4), EnvSpec(Bowling-ram-v0), EnvSpec(SkiingDeterministic-v0), EnvSpec(EnduroNoFrameskip-v0), EnvSpec(Alien-ramNoFrameskip-v4), EnvSpec(Freeway-ramNoFrameskip-v4), EnvSpec(VideoPinballNoFrameskip-v4), EnvSpec(StarGunner-ramNoFrameskip-v0), EnvSpec(Frostbite-ramNoFrameskip-v0), EnvSpec(Riverraid-ram-v4), EnvSpec(PrivateEye-ramNoFrameskip-v4), EnvSpec(BankHeistNoFrameskip-v0), EnvSpec(Hopper-v1), EnvSpec(BeamRider-ramDeterministic-v0), EnvSpec(CrazyClimber-ram-v4), EnvSpec(VideoPinballDeterministic-v4), EnvSpec(NameThisGameDeterministic-v0), EnvSpec(Pitfall-ramDeterministic-v4), EnvSpec(Tutankham-v4), EnvSpec(FrozenLake-v0), EnvSpec(Centipede-v4), EnvSpec(JourneyEscapeNoFrameskip-v4), EnvSpec(Centipede-ramDeterministic-v0), EnvSpec(AmidarDeterministic-v0), EnvSpec(Carnival-ram-v0), EnvSpec(Freeway-v0), EnvSpec(StarGunnerDeterministic-v4), EnvSpec(ElevatorAction-ramNoFrameskip-v4), EnvSpec(QbertDeterministic-v4), EnvSpec(Seaquest-ramNoFrameskip-v0), EnvSpec(BattleZone-ramNoFrameskip-v0), EnvSpec(JourneyEscape-ramDeterministic-v4), EnvSpec(Breakout-ram-v4), EnvSpec(Kangaroo-ram-v0), EnvSpec(Asteroids-ram-v0), EnvSpec(AtlantisNoFrameskip-v4), EnvSpec(StarGunnerNoFrameskip-v4), EnvSpec(FishingDerby-v0), EnvSpec(Alien-ram-v4), EnvSpec(SemisuperPendulumRandom-v0), EnvSpec(DemonAttackNoFrameskip-v0), EnvSpec(Pitfall-ramDeterministic-v0), EnvSpec(Assault-ramNoFrameskip-v0), EnvSpec(KungFuMasterNoFrameskip-v0), EnvSpec(SpaceInvaders-ram-v4), EnvSpec(Jamesbond-ram-v4), EnvSpec(Berzerk-ramNoFrameskip-v4), EnvSpec(Pusher-v0), EnvSpec(FishingDerby-v4), EnvSpec(Gopher-v4), EnvSpec(PrivateEye-ramNoFrameskip-v0), EnvSpec(CentipedeDeterministic-v0), EnvSpec(SemisuperPendulumDecay-v0), EnvSpec(DoubleDunk-ramNoFrameskip-v0), EnvSpec(Solaris-ramNoFrameskip-v4), EnvSpec(MontezumaRevengeDeterministic-v0), EnvSpec(OneRoundDeterministicReward-v0), EnvSpec(RepeatCopy-v0), EnvSpec(ChopperCommand-ramNoFrameskip-v0), EnvSpec(Boxing-ram-v0), EnvSpec(TimePilot-v4), EnvSpec(MontezumaRevenge-ram-v4), EnvSpec(ElevatorAction-ram-v0), EnvSpec(MontezumaRevenge-v4), EnvSpec(Pong-ramNoFrameskip-v0), EnvSpec(BattleZoneNoFrameskip-v4), EnvSpec(NameThisGame-ram-v4), EnvSpec(Venture-v4), EnvSpec(TimePilot-ram-v4), EnvSpec(JourneyEscapeDeterministic-v0), EnvSpec(UpNDown-ramDeterministic-v4), EnvSpec(PredictObsCartpole-v0), EnvSpec(Alien-ramDeterministic-v0), EnvSpec(FishingDerby-ram-v0), EnvSpec(UpNDown-ramNoFrameskip-v4), EnvSpec(PrivateEye-v0), EnvSpec(Assault-v0), EnvSpec(JourneyEscape-ramNoFrameskip-v4), EnvSpec(BeamRiderNoFrameskip-v4), EnvSpec(OffSwitchCartpole-v0), EnvSpec(WizardOfWor-ram-v0), EnvSpec(GravitarNoFrameskip-v0), EnvSpec(Berzerk-ramDeterministic-v0), EnvSpec(Pong-ramDeterministic-v0), EnvSpec(Berzerk-v0), EnvSpec(JamesbondDeterministic-v0), EnvSpec(ElevatorAction-v4), EnvSpec(Boxing-ramNoFrameskip-v4), EnvSpec(NameThisGame-ramDeterministic-v0), EnvSpec(Assault-ram-v0), EnvSpec(HotterColder-v0), EnvSpec(Zaxxon-ramDeterministic-v0), EnvSpec(MontezumaRevenge-ramDeterministic-v4), EnvSpec(ZaxxonDeterministic-v4), EnvSpec(Venture-ramNoFrameskip-v0), EnvSpec(Alien-v0), EnvSpec(MsPacmanDeterministic-v0), EnvSpec(ChopperCommandNoFrameskip-v0), EnvSpec(FreewayDeterministic-v0), EnvSpec(CrazyClimber-ramNoFrameskip-v0), EnvSpec(IceHockey-ram-v0), EnvSpec(Riverraid-v0), EnvSpec(Qbert-ramNoFrameskip-v4), EnvSpec(ElevatorAction-ramNoFrameskip-v0), EnvSpec(KangarooDeterministic-v0), EnvSpec(Enduro-ramDeterministic-v4), EnvSpec(AmidarNoFrameskip-v0), EnvSpec(VideoPinball-ramDeterministic-v4), EnvSpec(TimePilot-ram-v0), EnvSpec(Robotank-ramNoFrameskip-v4), EnvSpec(PredictActionsCartpole-v0), EnvSpec(JourneyEscape-ramNoFrameskip-v0), EnvSpec(Assault-ramDeterministic-v4), EnvSpec(CrazyClimberDeterministic-v0), EnvSpec(Centipede-ram-v0), EnvSpec(VentureNoFrameskip-v0), EnvSpec(Krull-ramDeterministic-v0), EnvSpec(EnduroNoFrameskip-v4), EnvSpec(ChopperCommand-ram-v4), EnvSpec(Kangaroo-ramNoFrameskip-v0), EnvSpec(YarsRevengeNoFrameskip-v0), EnvSpec(Assault-v4), EnvSpec(TennisDeterministic-v0), EnvSpec(PitfallDeterministic-v4), EnvSpec(BankHeistDeterministic-v4), EnvSpec(PitfallNoFrameskip-v4), EnvSpec(StarGunner-ramNoFrameskip-v4), EnvSpec(MontezumaRevengeNoFrameskip-v0), EnvSpec(KangarooNoFrameskip-v4), EnvSpec(Zaxxon-ramNoFrameskip-v4), EnvSpec(BerzerkNoFrameskip-v0), EnvSpec(MontezumaRevenge-ramDeterministic-v0), EnvSpec(Tutankham-ram-v0), EnvSpec(DemonAttack-ram-v0), EnvSpec(Robotank-ram-v4), EnvSpec(Tennis-ramDeterministic-v0), EnvSpec(Krull-ramNoFrameskip-v4), EnvSpec(Asterix-ram-v4), EnvSpec(Hex9x9-v0), EnvSpec(VideoPinballDeterministic-v0), EnvSpec(Asteroids-ramNoFrameskip-v0), EnvSpec(Zaxxon-ram-v4), EnvSpec(Centipede-ramDeterministic-v4), EnvSpec(Atlantis-ram-v4), EnvSpec(Phoenix-ramNoFrameskip-v0), EnvSpec(Asterix-v0), EnvSpec(DemonAttack-ram-v4), EnvSpec(NameThisGame-ram-v0), EnvSpec(OffSwitchCartpoleProb-v0), EnvSpec(Bowling-ramDeterministic-v0), EnvSpec(YarsRevengeDeterministic-v0), EnvSpec(AsteroidsNoFrameskip-v0), EnvSpec(PhoenixNoFrameskip-v0), EnvSpec(RoadRunner-ram-v4), EnvSpec(RoadRunnerNoFrameskip-v4), EnvSpec(ChopperCommandDeterministic-v4), EnvSpec(Alien-ramNoFrameskip-v0), EnvSpec(AtlantisDeterministic-v4), EnvSpec(WizardOfWorDeterministic-v4), EnvSpec(Freeway-ram-v0), EnvSpec(VideoPinball-ram-v4), EnvSpec(ConvergenceControl-v0), EnvSpec(BowlingNoFrameskip-v0), EnvSpec(Swimmer-v1), EnvSpec(Blackjack-v0), EnvSpec(Gravitar-v0), EnvSpec(AirRaid-ramDeterministic-v0), EnvSpec(VideoPinball-ramNoFrameskip-v0), EnvSpec(SkiingNoFrameskip-v0), EnvSpec(ReversedAddition3-v0), EnvSpec(StarGunner-ram-v4), EnvSpec(Tutankham-ramNoFrameskip-v4), EnvSpec(Thrower-v0), EnvSpec(CrazyClimber-ram-v0), EnvSpec(Solaris-ram-v4), EnvSpec(Phoenix-ram-v4), EnvSpec(BreakoutDeterministic-v4), EnvSpec(Phoenix-ram-v0), EnvSpec(AirRaid-ramNoFrameskip-v0), EnvSpec(Skiing-ramNoFrameskip-v0), EnvSpec(Berzerk-ram-v0), EnvSpec(UpNDownNoFrameskip-v0), EnvSpec(BeamRiderDeterministic-v0), EnvSpec(MsPacman-v0), EnvSpec(Tennis-ramNoFrameskip-v4), EnvSpec(BeamRiderNoFrameskip-v0)])\n"
     ]
    }
   ],
   "source": [
    "from gym import envs\n",
    "print(envs.registry.all())"
   ]
  },
  {
   "cell_type": "code",
   "execution_count": null,
   "metadata": {
    "collapsed": true
   },
   "outputs": [],
   "source": []
  }
 ],
 "metadata": {
  "kernelspec": {
   "display_name": "Python 3",
   "language": "python",
   "name": "python3"
  },
  "language_info": {
   "codemirror_mode": {
    "name": "ipython",
    "version": 3
   },
   "file_extension": ".py",
   "mimetype": "text/x-python",
   "name": "python",
   "nbconvert_exporter": "python",
   "pygments_lexer": "ipython3",
   "version": "3.5.2"
  }
 },
 "nbformat": 4,
 "nbformat_minor": 2
}
